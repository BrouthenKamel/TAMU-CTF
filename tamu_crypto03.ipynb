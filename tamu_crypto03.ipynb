{
  "nbformat": 4,
  "nbformat_minor": 0,
  "metadata": {
    "colab": {
      "provenance": [],
      "authorship_tag": "ABX9TyOPw3S9N7ubpKZqZuXsk12p",
      "include_colab_link": true
    },
    "kernelspec": {
      "name": "python3",
      "display_name": "Python 3"
    },
    "language_info": {
      "name": "python"
    }
  },
  "cells": [
    {
      "cell_type": "markdown",
      "metadata": {
        "id": "view-in-github",
        "colab_type": "text"
      },
      "source": [
        "<a href=\"https://colab.research.google.com/github/BrouthenKamel/TAMU-CTF/blob/main/tamu_crypto03.ipynb\" target=\"_parent\"><img src=\"https://colab.research.google.com/assets/colab-badge.svg\" alt=\"Open In Colab\"/></a>"
      ]
    },
    {
      "cell_type": "code",
      "source": [
        "import re"
      ],
      "metadata": {
        "id": "2tXo4TIv2XAN"
      },
      "execution_count": 2,
      "outputs": []
    },
    {
      "cell_type": "code",
      "execution_count": 3,
      "metadata": {
        "id": "ofkWdriR05hQ"
      },
      "outputs": [],
      "source": [
        "alpha = 'abcdefghijklmnopqrstuvwxyz'\n",
        "regex = re.compile('[^a-zA-Z]')"
      ]
    },
    {
      "cell_type": "code",
      "source": [
        "regex"
      ],
      "metadata": {
        "colab": {
          "base_uri": "https://localhost:8080/"
        },
        "id": "Qm5iXwa62ZTW",
        "outputId": "dfd3b46b-6b8b-4df1-f707-39dcd19c38cb"
      },
      "execution_count": 4,
      "outputs": [
        {
          "output_type": "execute_result",
          "data": {
            "text/plain": [
              "re.compile(r'[^a-zA-Z]', re.UNICODE)"
            ]
          },
          "metadata": {},
          "execution_count": 4
        }
      ]
    },
    {
      "cell_type": "code",
      "source": [
        "def encrypt(msg, key):\n",
        "\tctxt = ''\n",
        "\n",
        "\tmsg = regex.sub('', msg).lower()\n",
        "\tkey = regex.sub('', key).lower()\n",
        "\n",
        "\tfor i in range(len(msg)):\n",
        "\t\tindex = alpha.index(msg[i]) ^ alpha.index(key[i % len(key)])\n",
        "\t\tif index < 26:\n",
        "\t\t\tctxt += alpha[index]\n",
        "\t\telse:\n",
        "\t\t\tctxt += msg[i]\n",
        "\t\t\n",
        "\t\tif i % len(key) == len(key) - 1:\n",
        "\t\t\tkey = key[1:] + key[0]\n",
        "\n",
        "\treturn ctxt"
      ],
      "metadata": {
        "id": "re4RJyF_2af6"
      },
      "execution_count": 5,
      "outputs": []
    },
    {
      "cell_type": "code",
      "source": [
        "ct = \"hmtonazyvdgipzqzoffvayfubnmwcjprqipslnlyonfdhndoofdjtahhmqhkgcsunoydiqmggkapmootkxwaullpzxkyxedsoagoknwfxeprnfqkdfsywdgdlcmjbjaumkwghumgbzdnnkqtlmiiojauujaprdtchsdpvasnanfcmzvptkxubgmxoaifgjdakyjmusawgjhvkrxghnorujdraunlcnnipwhrttoupovprcngdlmiiojfugstdpemtmodgerlwnogbljkgawprnofpkckaadagprfbnfrytkuypemihoygpebjfcpgruarzkifgxqmuajplvqzpvmpktjdgccuttgwrvtffwettfdcsztzlylyggdajvypkkqmegowuwoyzfhpdnoapmagnklgifnwganfwxepilmmchsypvhnagninbrwdxdgnduqmursbhhmawzehovfdgciagctgblcptkxrpcgmllggixnzpvfgvvrnfjolizvgsouuejhvkromhnoapxyfuiouhnkvpvffdgrzunorfqoiogslgdkryynudpemtmaggeplepjgwiatgawprnofpkdotcnfnkjmpoekrcngdlcmjbrfdpdgnmfzrsougprprnofpkxgvpynuupfgvvrnfjolavtyefnfwjopvvzeendlrqolrfupjrdiiarpryjmunkvpvffdgrekkktfqbrwgvvgaifgjdzotxgmjptpjhvkrxgphryppilfdvipjwurxyfuwvvganawjhlmmotfoalfrrfffnoyefrmpertzqmghrmmdjfpucqmuakyfkrmtcgqkjgyykrlwztkhdgipshkaypihoywmeqzppvpmoggnkonadnoenypbjnwtmvocmklghvprpxgphoeaeydtdyuqzhlgjdykalqmuwawmpokplapmxayxdhobvqmufdipsztlnlpoekrnkgdlxaxojauulokvvzeendlaaqtfflmwndpvasnanfcrfdlrkxgnlfbjvsprxyfugvxoaifgjdhobvqefmrtjhvkrxgpnozlyffaiqqghkvpvffdgrtgbllamhldiwutzjaujhvkrxgphridrhtaufhpoekrnngdllmrsouifsgdpemtmodglvxdlagwhsogihhzpatyefdpvasnanfcgreptkxjrtfgvvrnfjolsljeeonktaopvpaoendlyaiaoazmcnnmuvqtaunmxornfjolidemyefuejhvkrxgphrfpxyfuiowphvvpvffdgrzwhrrfuoiogslgyvrytkudpemtmodglidepjgwiawgprhrnofpkdotnknipjmpoekrnkogoymjbrfdpeoijuarsouymagaonzspakquaojwlnijjsdzmrjafl\""
      ],
      "metadata": {
        "id": "h-EjMMt75Uof"
      },
      "execution_count": 10,
      "outputs": []
    },
    {
      "cell_type": "markdown",
      "source": [],
      "metadata": {
        "id": "Jk-gVm5UGZxD"
      }
    },
    {
      "cell_type": "code",
      "source": [
        "freqs = {}\n",
        "\n",
        "for char in alpha:\n",
        "  freqs[char] = round(ct.count(char) / len(ct), 3)\n",
        "\n",
        "sorted_dict = dict(sorted(freqs.items(), key=lambda item: item[1], reverse=True))\n",
        "\n",
        "print(sorted_dict)"
      ],
      "metadata": {
        "colab": {
          "base_uri": "https://localhost:8080/"
        },
        "id": "jOGKobSAD_Xv",
        "outputId": "04a70d95-8600-434c-ae02-084420ba3fb7"
      },
      "execution_count": 26,
      "outputs": [
        {
          "output_type": "stream",
          "name": "stdout",
          "text": [
            "{'p': 0.066, 'g': 0.065, 'f': 0.058, 'o': 0.058, 'n': 0.054, 'r': 0.054, 'a': 0.052, 'd': 0.048, 'm': 0.046, 'k': 0.042, 'v': 0.041, 'l': 0.04, 'u': 0.038, 'j': 0.037, 't': 0.034, 'h': 0.033, 'y': 0.031, 'e': 0.03, 'i': 0.03, 'w': 0.026, 'x': 0.023, 'z': 0.022, 's': 0.019, 'c': 0.018, 'q': 0.018, 'b': 0.013}\n"
          ]
        }
      ]
    },
    {
      "cell_type": "code",
      "source": [
        "proba_26 = []\n",
        "\n",
        "for char1 in alpha:\n",
        "  for char2 in alpha:\n",
        "    xored = alpha.index(char1) ^ alpha.index(char2)\n",
        "    if xored > 26:\n",
        "      proba_26.append({\n",
        "          \"char1\":char1,\n",
        "          \"char2\":char2,\n",
        "          \"xor\":xored\n",
        "      })\n",
        "\n",
        "len(proba_26) / 26**2"
      ],
      "metadata": {
        "colab": {
          "base_uri": "https://localhost:8080/"
        },
        "id": "XILP-obGGuTJ",
        "outputId": "d0204331-035c-41f1-a2b9-b8f02c5b47c6"
      },
      "execution_count": 18,
      "outputs": [
        {
          "output_type": "execute_result",
          "data": {
            "text/plain": [
              "0.14792899408284024"
            ]
          },
          "metadata": {},
          "execution_count": 18
        }
      ]
    }
  ]
}