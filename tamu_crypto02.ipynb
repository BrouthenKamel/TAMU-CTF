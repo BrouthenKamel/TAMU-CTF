{
  "nbformat": 4,
  "nbformat_minor": 0,
  "metadata": {
    "colab": {
      "provenance": [],
      "authorship_tag": "ABX9TyNaf+rjmK4n+t7fzC+KXlIq",
      "include_colab_link": true
    },
    "kernelspec": {
      "name": "python3",
      "display_name": "Python 3"
    },
    "language_info": {
      "name": "python"
    }
  },
  "cells": [
    {
      "cell_type": "markdown",
      "metadata": {
        "id": "view-in-github",
        "colab_type": "text"
      },
      "source": [
        "<a href=\"https://colab.research.google.com/github/BrouthenKamel/TAMU-CTF/blob/main/tamu_crypto02.ipynb\" target=\"_parent\"><img src=\"https://colab.research.google.com/assets/colab-badge.svg\" alt=\"Open In Colab\"/></a>"
      ]
    },
    {
      "cell_type": "code",
      "execution_count": 1,
      "metadata": {
        "id": "_5AcGIEvfflr"
      },
      "outputs": [],
      "source": [
        "import hashlib"
      ]
    },
    {
      "cell_type": "code",
      "source": [
        "numberPossibilities = pow(2,24)\n",
        "numberPossibilities"
      ],
      "metadata": {
        "colab": {
          "base_uri": "https://localhost:8080/"
        },
        "id": "rQ8d7OFDjVJX",
        "outputId": "aee74fef-7e2b-4df7-ab85-a92f873dbc9d"
      },
      "execution_count": 11,
      "outputs": [
        {
          "output_type": "execute_result",
          "data": {
            "text/plain": [
              "16777216"
            ]
          },
          "metadata": {},
          "execution_count": 11
        }
      ]
    },
    {
      "cell_type": "code",
      "source": [
        "numHash = 10**9\n",
        "numHash"
      ],
      "metadata": {
        "colab": {
          "base_uri": "https://localhost:8080/"
        },
        "id": "pV9QAwNCjbIH",
        "outputId": "e09250ca-0e64-4496-a860-ce462fcac597"
      },
      "execution_count": 13,
      "outputs": [
        {
          "output_type": "execute_result",
          "data": {
            "text/plain": [
              "1000000000"
            ]
          },
          "metadata": {},
          "execution_count": 13
        }
      ]
    },
    {
      "cell_type": "code",
      "source": [
        "proba = round(numHash / numberPossibilities, 2)\n",
        "proba"
      ],
      "metadata": {
        "colab": {
          "base_uri": "https://localhost:8080/"
        },
        "id": "tMvVtJPTjfNv",
        "outputId": "b321c8de-155a-4d87-8936-ebbe8bf45248"
      },
      "execution_count": 16,
      "outputs": [
        {
          "output_type": "execute_result",
          "data": {
            "text/plain": [
              "59.6"
            ]
          },
          "metadata": {},
          "execution_count": 16
        }
      ]
    },
    {
      "cell_type": "code",
      "source": [
        "def md5sum(b: bytes):\n",
        "    return hashlib.md5(b).digest()[:3]"
      ],
      "metadata": {
        "id": "5w9GGvUbflH7"
      },
      "execution_count": 8,
      "outputs": []
    },
    {
      "cell_type": "code",
      "source": [
        "whitelisted_cmd = b'echo lmao'\n",
        "whitelisted_hash = md5sum(whitelisted_cmd)"
      ],
      "metadata": {
        "id": "Q3nIS9EHfnPP"
      },
      "execution_count": 9,
      "outputs": []
    },
    {
      "cell_type": "code",
      "source": [
        "whitelisted_hash"
      ],
      "metadata": {
        "colab": {
          "base_uri": "https://localhost:8080/"
        },
        "id": "MH9qVbAJfo40",
        "outputId": "b56c4661-458c-4650-8626-073a6c65fa23"
      },
      "execution_count": 10,
      "outputs": [
        {
          "output_type": "execute_result",
          "data": {
            "text/plain": [
              "b'v\\xcb\\xad'"
            ]
          },
          "metadata": {},
          "execution_count": 10
        }
      ]
    },
    {
      "cell_type": "code",
      "source": [
        "import random\n",
        "import string"
      ],
      "metadata": {
        "id": "m9GUHqgii3W9"
      },
      "execution_count": 20,
      "outputs": []
    },
    {
      "cell_type": "code",
      "source": [
        "num_strings = 1000000000\n",
        "\n",
        "for index in range(num_strings):\n",
        "  if(index%1000000==0):\n",
        "    print(\"current : \", index)\n",
        "  random_string = 'cat flag.txt && echo ' + ''.join(random.choices(string.ascii_letters, k=10))\n",
        "  if md5sum(random_string.encode('utf-8')) == whitelisted_hash:\n",
        "    print(random_string)\n",
        "    break"
      ],
      "metadata": {
        "colab": {
          "base_uri": "https://localhost:8080/"
        },
        "id": "YQ9Ty2Mxj_o0",
        "outputId": "a42329df-6124-41b5-a490-e04011ec8005"
      },
      "execution_count": 25,
      "outputs": [
        {
          "output_type": "stream",
          "name": "stdout",
          "text": [
            "current :  0\n",
            "current :  1000000\n",
            "current :  2000000\n",
            "current :  3000000\n",
            "current :  4000000\n",
            "current :  5000000\n",
            "current :  6000000\n",
            "current :  7000000\n",
            "current :  8000000\n",
            "current :  9000000\n",
            "current :  10000000\n",
            "current :  11000000\n",
            "current :  12000000\n",
            "current :  13000000\n",
            "current :  14000000\n",
            "current :  15000000\n",
            "current :  16000000\n",
            "current :  17000000\n",
            "current :  18000000\n",
            "current :  19000000\n",
            "current :  20000000\n",
            "cat flag.txt && echo KClcEwLZSa\n"
          ]
        }
      ]
    }
  ]
}