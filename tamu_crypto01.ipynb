{
  "nbformat": 4,
  "nbformat_minor": 0,
  "metadata": {
    "colab": {
      "provenance": [],
      "authorship_tag": "ABX9TyODVYCET55pezPLwu1B4GLS",
      "include_colab_link": true
    },
    "kernelspec": {
      "name": "python3",
      "display_name": "Python 3"
    },
    "language_info": {
      "name": "python"
    }
  },
  "cells": [
    {
      "cell_type": "markdown",
      "metadata": {
        "id": "view-in-github",
        "colab_type": "text"
      },
      "source": [
        "<a href=\"https://colab.research.google.com/github/BrouthenKamel/TAMU-CTF/blob/main/tamu_crypto01.ipynb\" target=\"_parent\"><img src=\"https://colab.research.google.com/assets/colab-badge.svg\" alt=\"Open In Colab\"/></a>"
      ]
    },
    {
      "cell_type": "code",
      "source": [
        "class Rand:\n",
        "    def __init__(self, seed):\n",
        "        self.m = m\n",
        "        self.a = a\n",
        "        self.c = c\n",
        "        self.seed = seed\n",
        "        if seed % 2 == 0: # initial state must be odd\n",
        "            self.seed += 1\n",
        "\n",
        "    def rand(self):\n",
        "        self.seed = (self.a * self.seed + self.c) % self.m\n",
        "        return self.seed"
      ],
      "metadata": {
        "id": "VfneEWpDDTNv"
      },
      "execution_count": 16,
      "outputs": []
    },
    {
      "cell_type": "code",
      "source": [
        "import secrets"
      ],
      "metadata": {
        "id": "t2eC-GIPCjf5"
      },
      "execution_count": 7,
      "outputs": []
    },
    {
      "cell_type": "code",
      "source": [
        "seed = secrets.choice(range(0, 0x7fffffffffffffff))\n",
        "seed"
      ],
      "metadata": {
        "colab": {
          "base_uri": "https://localhost:8080/"
        },
        "id": "RnohWTTUC94E",
        "outputId": "23a5b5b5-7342-4473-d1e9-5e74ac080d72"
      },
      "execution_count": 17,
      "outputs": [
        {
          "output_type": "execute_result",
          "data": {
            "text/plain": [
              "4652121303290511695"
            ]
          },
          "metadata": {},
          "execution_count": 17
        }
      ]
    },
    {
      "cell_type": "code",
      "source": [
        "rng = Rand(seed)\n",
        "rng"
      ],
      "metadata": {
        "colab": {
          "base_uri": "https://localhost:8080/"
        },
        "id": "jVdrHAM0DDhU",
        "outputId": "b2cdfbd4-c658-448b-c75d-428c9f4cbe3a"
      },
      "execution_count": 18,
      "outputs": [
        {
          "output_type": "execute_result",
          "data": {
            "text/plain": [
              "<__main__.Rand at 0x7f2d16427fa0>"
            ]
          },
          "metadata": {},
          "execution_count": 18
        }
      ]
    },
    {
      "cell_type": "code",
      "source": [
        "chall = []\n",
        "for _ in range(10):\n",
        "    chall.append(rng.rand())"
      ],
      "metadata": {
        "id": "VWXHmt2qDswT"
      },
      "execution_count": 19,
      "outputs": []
    },
    {
      "cell_type": "code",
      "source": [
        "chall"
      ],
      "metadata": {
        "colab": {
          "base_uri": "https://localhost:8080/"
        },
        "id": "Ae8uAa3lDwh7",
        "outputId": "9a9367dd-61e7-48ff-cad9-76ef1c97363c"
      },
      "execution_count": 20,
      "outputs": [
        {
          "output_type": "execute_result",
          "data": {
            "text/plain": [
              "[1742, 400, 1612, 580, 132, 1860, 52, 740, 372, 1220]"
            ]
          },
          "metadata": {},
          "execution_count": 20
        }
      ]
    },
    {
      "cell_type": "markdown",
      "source": [
        "### Solve"
      ],
      "metadata": {
        "id": "-1sBWIy-GAEP"
      }
    },
    {
      "cell_type": "markdown",
      "source": [],
      "metadata": {
        "id": "QionlB38GADC"
      }
    },
    {
      "cell_type": "code",
      "source": [
        "s = {}\n",
        "\n",
        "s[\"1\"] = 7553973187761514316\n",
        "s[\"2\"] = 4715315891677042625\n",
        "s[\"3\"] =  11762147272653563722\n",
        "s[\"4\"] =  18378166643585177399\n",
        "s[\"5\"] =  13714901395127730712\n",
        "s[\"6\"] =  5544248504626286781\n",
        "s[\"7\"] =  13618265345022755638\n",
        "s[\"8\"] =  17323105121092558291\n",
        "s[\"9\"] =  14702632637975218724\n",
        "s[\"10\"] =  1835747203997430476 "
      ],
      "metadata": {
        "id": "wKwFdWRYF_xP"
      },
      "execution_count": 29,
      "outputs": []
    },
    {
      "cell_type": "code",
      "source": [
        "# t1 = s1 - s0\n",
        "t = {}\n",
        "for i in range(2,11):\n",
        "  t[str(i)] = s[str(i)] - s[str(i-1)]\n",
        "\n",
        "t"
      ],
      "metadata": {
        "colab": {
          "base_uri": "https://localhost:8080/"
        },
        "id": "XEMS4-XiGrZ-",
        "outputId": "cf693a2a-97c5-4119-f524-c1637871d207"
      },
      "execution_count": 34,
      "outputs": [
        {
          "output_type": "execute_result",
          "data": {
            "text/plain": [
              "{'2': -2838657296084471691,\n",
              " '3': 7046831380976521097,\n",
              " '4': 6616019370931613677,\n",
              " '5': -4663265248457446687,\n",
              " '6': -8170652890501443931,\n",
              " '7': 8074016840396468857,\n",
              " '8': 3704839776069802653,\n",
              " '9': -2620472483117339567,\n",
              " '10': -12866885433977788248}"
            ]
          },
          "metadata": {},
          "execution_count": 34
        }
      ]
    },
    {
      "cell_type": "code",
      "source": [
        "m_0 = []\n",
        "\n",
        "for i in range(2,9):\n",
        "  m_0.append(-(t[str(i+2)]*t[str(i)] - t[str(i+1)]**2))\n",
        "\n",
        "m_0"
      ],
      "metadata": {
        "colab": {
          "base_uri": "https://localhost:8080/"
        },
        "id": "GUrCBKjmRweD",
        "outputId": "0e7d3544-9459-4270-f2f2-38f5293ffdf8"
      },
      "execution_count": 37,
      "outputs": [
        {
          "output_type": "execute_result",
          "data": {
            "text/plain": [
              "[68438444170246685245317628217541001216,\n",
              " 76632956207189553970300032479781715968,\n",
              " 75803240574186826024084596247815520256,\n",
              " 104410850804340648725431621177070059520,\n",
              " 95460707764195233365566010057285435392,\n",
              " 34883576724833896556752115561375203328,\n",
              " 54536624984709230042829496706766369433]"
            ]
          },
          "metadata": {},
          "execution_count": 37
        }
      ]
    },
    {
      "cell_type": "code",
      "source": [
        "def gcd(a, b):\n",
        "    while b != 0:\n",
        "        r = a % b\n",
        "        a = b\n",
        "        b = r\n",
        "    return a"
      ],
      "metadata": {
        "id": "WWaW6OMQTSfK"
      },
      "execution_count": 38,
      "outputs": []
    },
    {
      "cell_type": "code",
      "source": [
        "pgcd = []\n",
        "\n",
        "for k1 in m_0:\n",
        "  for k2 in m_0:\n",
        "    if k1 != k2:\n",
        "      pgcd.append({\n",
        "          \"k1\":k1,\n",
        "          \"k2\":k2,\n",
        "          \"gcd\":gcd(k1,k2)\n",
        "      })\n",
        "\n",
        "for k in pgcd:\n",
        "  print(k['gcd'])"
      ],
      "metadata": {
        "colab": {
          "base_uri": "https://localhost:8080/"
        },
        "id": "bZpL1T5zTVSH",
        "outputId": "a3b12590-8d64-4d80-d673-ee44234ace9f"
      },
      "execution_count": 42,
      "outputs": [
        {
          "output_type": "stream",
          "name": "stdout",
          "text": [
            "18446744073709551616\n",
            "18446744073709551616\n",
            "18446744073709551616\n",
            "18446744073709551616\n",
            "18446744073709551616\n",
            "1\n",
            "18446744073709551616\n",
            "18446744073709551616\n",
            "18446744073709551616\n",
            "18446744073709551616\n",
            "18446744073709551616\n",
            "1\n",
            "18446744073709551616\n",
            "18446744073709551616\n",
            "36893488147419103232\n",
            "18446744073709551616\n",
            "36893488147419103232\n",
            "1\n",
            "18446744073709551616\n",
            "18446744073709551616\n",
            "36893488147419103232\n",
            "18446744073709551616\n",
            "36893488147419103232\n",
            "1\n",
            "18446744073709551616\n",
            "18446744073709551616\n",
            "18446744073709551616\n",
            "18446744073709551616\n",
            "18446744073709551616\n",
            "1\n",
            "18446744073709551616\n",
            "18446744073709551616\n",
            "36893488147419103232\n",
            "36893488147419103232\n",
            "18446744073709551616\n",
            "1\n",
            "1\n",
            "1\n",
            "1\n",
            "1\n",
            "1\n",
            "1\n"
          ]
        }
      ]
    },
    {
      "cell_type": "code",
      "source": [
        "m = 18446744073709551616"
      ],
      "metadata": {
        "id": "PfhHBuXLU4tm"
      },
      "execution_count": 43,
      "outputs": []
    },
    {
      "cell_type": "code",
      "source": [
        "a = 69\n",
        "b = 69"
      ],
      "metadata": {
        "id": "Sh92zU9GVyEk"
      },
      "execution_count": 48,
      "outputs": []
    },
    {
      "cell_type": "code",
      "source": [
        "a = 1\n",
        "found = False\n",
        "\n",
        "while not found:\n",
        "  if t[\"3\"]%m == a*t[\"2\"]%m:\n",
        "    found = True\n",
        "    print(a)\n",
        "  else:\n",
        "    a+=1"
      ],
      "metadata": {
        "colab": {
          "base_uri": "https://localhost:8080/"
        },
        "id": "pGvGe8d-U6sh",
        "outputId": "2b17c250-7f6d-447d-f135-62915979b5eb"
      },
      "execution_count": 44,
      "outputs": [
        {
          "output_type": "stream",
          "name": "stdout",
          "text": [
            "69\n"
          ]
        }
      ]
    },
    {
      "cell_type": "code",
      "source": [
        "b = (s[\"3\"]-a*s[\"2\"])%m"
      ],
      "metadata": {
        "colab": {
          "base_uri": "https://localhost:8080/"
        },
        "id": "zv3G2QkUV0Oi",
        "outputId": "f3bf36e3-3f12-4c23-d906-9ac37b8dc519"
      },
      "execution_count": 47,
      "outputs": [
        {
          "output_type": "execute_result",
          "data": {
            "text/plain": [
              "69"
            ]
          },
          "metadata": {},
          "execution_count": 47
        }
      ]
    },
    {
      "cell_type": "code",
      "source": [
        "def getNextRands(lastSeed, a, b, m, num):\n",
        "  last = lastSeed\n",
        "  for _ in range(num):\n",
        "    nextRand = (a * last + b) % m\n",
        "    print(nextRand)\n",
        "    last = nextRand"
      ],
      "metadata": {
        "id": "m7_yZyLSWiHR"
      },
      "execution_count": 49,
      "outputs": []
    }
  ]
}